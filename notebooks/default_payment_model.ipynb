{
 "cells": [
  {
   "cell_type": "markdown",
   "metadata": {},
   "source": [
    "# Summary of stuff"
   ]
  },
  {
   "cell_type": "markdown",
   "metadata": {},
   "source": [
    "## Model Data Import"
   ]
  },
  {
   "cell_type": "code",
   "execution_count": 1,
   "metadata": {},
   "outputs": [],
   "source": [
    "from sklearn.utils import resample\n",
    "from sklearn.model_selection import train_test_split\n",
    "from sklearn.preprocessing import StandardScaler\n",
    "from sklearn.metrics import f1_score\n",
    "\n",
    "from sklearn.dummy import DummyClassifier\n",
    "from sklearn.linear_model import LogisticRegression\n",
    "from sklearn.neighbors import KNeighborsClassifier\n",
    "from sklearn.tree import DecisionTreeClassifier\n",
    "from sklearn.model_selection import GridSearchCV\n",
    "\n",
    "import os\n",
    "import numpy as np\n",
    "import pickle\n",
    "import pandas as pd"
   ]
  },
  {
   "cell_type": "code",
   "execution_count": 2,
   "metadata": {},
   "outputs": [],
   "source": [
    "model_df = pd.read_csv(r\"..\\data\\training_data_eda.csv\")"
   ]
  },
  {
   "cell_type": "code",
   "execution_count": 3,
   "metadata": {},
   "outputs": [],
   "source": [
    "model_df = model_df.drop(columns=\"Unnamed: 0\")"
   ]
  },
  {
   "cell_type": "code",
   "execution_count": 4,
   "metadata": {
    "scrolled": true
   },
   "outputs": [
    {
     "data": {
      "text/html": [
       "<div>\n",
       "<style scoped>\n",
       "    .dataframe tbody tr th:only-of-type {\n",
       "        vertical-align: middle;\n",
       "    }\n",
       "\n",
       "    .dataframe tbody tr th {\n",
       "        vertical-align: top;\n",
       "    }\n",
       "\n",
       "    .dataframe thead th {\n",
       "        text-align: right;\n",
       "    }\n",
       "</style>\n",
       "<table border=\"1\" class=\"dataframe\">\n",
       "  <thead>\n",
       "    <tr style=\"text-align: right;\">\n",
       "      <th></th>\n",
       "      <th>max_credit</th>\n",
       "      <th>gender</th>\n",
       "      <th>education</th>\n",
       "      <th>marital_status</th>\n",
       "      <th>age</th>\n",
       "      <th>pay_status_sep</th>\n",
       "      <th>pay_status_aug</th>\n",
       "      <th>pay_status_jul</th>\n",
       "      <th>pay_status_jun</th>\n",
       "      <th>pay_status_may</th>\n",
       "      <th>...</th>\n",
       "      <th>average_bill_change</th>\n",
       "      <th>full_pay_sep</th>\n",
       "      <th>full_pay_aug</th>\n",
       "      <th>full_pay_jul</th>\n",
       "      <th>full_pay_jun</th>\n",
       "      <th>full_pay__may</th>\n",
       "      <th>full_pay_apr</th>\n",
       "      <th>pay_status_sum</th>\n",
       "      <th>habit_delay</th>\n",
       "      <th>default</th>\n",
       "    </tr>\n",
       "  </thead>\n",
       "  <tbody>\n",
       "    <tr>\n",
       "      <th>0</th>\n",
       "      <td>220000</td>\n",
       "      <td>1</td>\n",
       "      <td>1</td>\n",
       "      <td>2</td>\n",
       "      <td>36</td>\n",
       "      <td>0</td>\n",
       "      <td>0</td>\n",
       "      <td>0</td>\n",
       "      <td>0</td>\n",
       "      <td>0</td>\n",
       "      <td>...</td>\n",
       "      <td>7598.6</td>\n",
       "      <td>0</td>\n",
       "      <td>0</td>\n",
       "      <td>0</td>\n",
       "      <td>0</td>\n",
       "      <td>0</td>\n",
       "      <td>0</td>\n",
       "      <td>0</td>\n",
       "      <td>0</td>\n",
       "      <td>1</td>\n",
       "    </tr>\n",
       "    <tr>\n",
       "      <th>1</th>\n",
       "      <td>200000</td>\n",
       "      <td>1</td>\n",
       "      <td>3</td>\n",
       "      <td>2</td>\n",
       "      <td>29</td>\n",
       "      <td>-1</td>\n",
       "      <td>-1</td>\n",
       "      <td>-1</td>\n",
       "      <td>-1</td>\n",
       "      <td>-1</td>\n",
       "      <td>...</td>\n",
       "      <td>0.0</td>\n",
       "      <td>0</td>\n",
       "      <td>0</td>\n",
       "      <td>0</td>\n",
       "      <td>0</td>\n",
       "      <td>0</td>\n",
       "      <td>0</td>\n",
       "      <td>-6</td>\n",
       "      <td>0</td>\n",
       "      <td>0</td>\n",
       "    </tr>\n",
       "    <tr>\n",
       "      <th>2</th>\n",
       "      <td>180000</td>\n",
       "      <td>1</td>\n",
       "      <td>1</td>\n",
       "      <td>2</td>\n",
       "      <td>27</td>\n",
       "      <td>-2</td>\n",
       "      <td>-2</td>\n",
       "      <td>-2</td>\n",
       "      <td>-2</td>\n",
       "      <td>-2</td>\n",
       "      <td>...</td>\n",
       "      <td>0.0</td>\n",
       "      <td>1</td>\n",
       "      <td>1</td>\n",
       "      <td>1</td>\n",
       "      <td>1</td>\n",
       "      <td>1</td>\n",
       "      <td>1</td>\n",
       "      <td>-12</td>\n",
       "      <td>0</td>\n",
       "      <td>0</td>\n",
       "    </tr>\n",
       "    <tr>\n",
       "      <th>3</th>\n",
       "      <td>80000</td>\n",
       "      <td>0</td>\n",
       "      <td>2</td>\n",
       "      <td>2</td>\n",
       "      <td>32</td>\n",
       "      <td>0</td>\n",
       "      <td>0</td>\n",
       "      <td>0</td>\n",
       "      <td>0</td>\n",
       "      <td>0</td>\n",
       "      <td>...</td>\n",
       "      <td>1769.0</td>\n",
       "      <td>0</td>\n",
       "      <td>0</td>\n",
       "      <td>0</td>\n",
       "      <td>0</td>\n",
       "      <td>0</td>\n",
       "      <td>0</td>\n",
       "      <td>0</td>\n",
       "      <td>0</td>\n",
       "      <td>0</td>\n",
       "    </tr>\n",
       "    <tr>\n",
       "      <th>4</th>\n",
       "      <td>10000</td>\n",
       "      <td>0</td>\n",
       "      <td>2</td>\n",
       "      <td>2</td>\n",
       "      <td>27</td>\n",
       "      <td>0</td>\n",
       "      <td>0</td>\n",
       "      <td>0</td>\n",
       "      <td>0</td>\n",
       "      <td>0</td>\n",
       "      <td>...</td>\n",
       "      <td>1112.0</td>\n",
       "      <td>0</td>\n",
       "      <td>0</td>\n",
       "      <td>0</td>\n",
       "      <td>0</td>\n",
       "      <td>0</td>\n",
       "      <td>0</td>\n",
       "      <td>0</td>\n",
       "      <td>0</td>\n",
       "      <td>1</td>\n",
       "    </tr>\n",
       "  </tbody>\n",
       "</table>\n",
       "<p>5 rows × 52 columns</p>\n",
       "</div>"
      ],
      "text/plain": [
       "   max_credit  gender  education  marital_status  age  pay_status_sep  \\\n",
       "0      220000       1          1               2   36               0   \n",
       "1      200000       1          3               2   29              -1   \n",
       "2      180000       1          1               2   27              -2   \n",
       "3       80000       0          2               2   32               0   \n",
       "4       10000       0          2               2   27               0   \n",
       "\n",
       "   pay_status_aug  pay_status_jul  pay_status_jun  pay_status_may  ...  \\\n",
       "0               0               0               0               0  ...   \n",
       "1              -1              -1              -1              -1  ...   \n",
       "2              -2              -2              -2              -2  ...   \n",
       "3               0               0               0               0  ...   \n",
       "4               0               0               0               0  ...   \n",
       "\n",
       "   average_bill_change  full_pay_sep  full_pay_aug  full_pay_jul  \\\n",
       "0               7598.6             0             0             0   \n",
       "1                  0.0             0             0             0   \n",
       "2                  0.0             1             1             1   \n",
       "3               1769.0             0             0             0   \n",
       "4               1112.0             0             0             0   \n",
       "\n",
       "   full_pay_jun  full_pay__may  full_pay_apr  pay_status_sum  habit_delay  \\\n",
       "0             0              0             0               0            0   \n",
       "1             0              0             0              -6            0   \n",
       "2             1              1             1             -12            0   \n",
       "3             0              0             0               0            0   \n",
       "4             0              0             0               0            0   \n",
       "\n",
       "   default  \n",
       "0        1  \n",
       "1        0  \n",
       "2        0  \n",
       "3        0  \n",
       "4        1  \n",
       "\n",
       "[5 rows x 52 columns]"
      ]
     },
     "execution_count": 4,
     "metadata": {},
     "output_type": "execute_result"
    }
   ],
   "source": [
    "model_df.head()"
   ]
  },
  {
   "cell_type": "markdown",
   "metadata": {},
   "source": [
    "## Upsample Minority Result"
   ]
  },
  {
   "cell_type": "code",
   "execution_count": 5,
   "metadata": {
    "scrolled": true
   },
   "outputs": [
    {
     "data": {
      "text/plain": [
       "default\n",
       "0    17471\n",
       "1     5028\n",
       "Name: age, dtype: int64"
      ]
     },
     "execution_count": 5,
     "metadata": {},
     "output_type": "execute_result"
    }
   ],
   "source": [
    "model_df.groupby(\"default\").age.count()"
   ]
  },
  {
   "cell_type": "code",
   "execution_count": 6,
   "metadata": {},
   "outputs": [],
   "source": [
    "defaulted = model_df[model_df.default == 1]\n",
    "undefaulted = model_df[model_df.default == 0]"
   ]
  },
  {
   "cell_type": "code",
   "execution_count": 7,
   "metadata": {},
   "outputs": [],
   "source": [
    "defaulted_upsampled = resample(defaulted,\n",
    "                          replace=True, # sample with replacement\n",
    "                          n_samples=undefaulted.shape[0], # match number in majority class\n",
    "                          random_state=42) # reproducible result"
   ]
  },
  {
   "cell_type": "code",
   "execution_count": 8,
   "metadata": {
    "scrolled": true
   },
   "outputs": [
    {
     "data": {
      "text/plain": [
       "1    17471\n",
       "0    17471\n",
       "Name: default, dtype: int64"
      ]
     },
     "execution_count": 8,
     "metadata": {},
     "output_type": "execute_result"
    }
   ],
   "source": [
    "resampled_df  = pd.concat([undefaulted, defaulted_upsampled])\n",
    "resampled_df.default.value_counts()"
   ]
  },
  {
   "cell_type": "code",
   "execution_count": 9,
   "metadata": {},
   "outputs": [],
   "source": [
    "X = resampled_df.drop(columns=\"default\")\n",
    "y = resampled_df.default"
   ]
  },
  {
   "cell_type": "code",
   "execution_count": 40,
   "metadata": {},
   "outputs": [],
   "source": [
    "X_train, X_test, y_train, y_test = train_test_split(X, y, random_state=40)"
   ]
  },
  {
   "cell_type": "markdown",
   "metadata": {},
   "source": [
    "### Standard Scaling for KNN"
   ]
  },
  {
   "cell_type": "code",
   "execution_count": 11,
   "metadata": {},
   "outputs": [],
   "source": [
    "scaler = StandardScaler()\n",
    "scaled_data_train = scaler.fit_transform(X_train)\n",
    "scaled_data_test = scaler.transform(X_test)"
   ]
  },
  {
   "cell_type": "markdown",
   "metadata": {},
   "source": [
    "## Baseline Models"
   ]
  },
  {
   "cell_type": "code",
   "execution_count": 12,
   "metadata": {},
   "outputs": [],
   "source": [
    "dummy = DummyClassifier()\n",
    "logreg = LogisticRegression(max_iter = 10**5, verbose=1)\n",
    "tree = DecisionTreeClassifier()\n",
    "knn = KNeighborsClassifier()"
   ]
  },
  {
   "cell_type": "markdown",
   "metadata": {},
   "source": [
    "## All Features GridSearchCV\n",
    "This is gonna be a long one"
   ]
  },
  {
   "cell_type": "code",
   "execution_count": 18,
   "metadata": {},
   "outputs": [
    {
     "data": {
      "text/plain": [
       "52"
      ]
     },
     "execution_count": 18,
     "metadata": {},
     "output_type": "execute_result"
    }
   ],
   "source": [
    "len(model_df.columns)"
   ]
  },
  {
   "cell_type": "code",
   "execution_count": 30,
   "metadata": {},
   "outputs": [],
   "source": [
    "# run history\n",
    "# DecisionTreeClassifier(criterion='entropy', max_depth=22, max_features=39, min_samples_leaf=30)\n",
    "# DecisionTreeClassifier(criterion='entropy', max_depth=18, max_features=47, min_samples_leaf=20)\n",
    "tree_param_dict = {\"max_depth\":range(15,25,1),\n",
    "              \"criterion\":[\"entropy\"], \n",
    "              \"min_samples_leaf\":range(50,80,5),\n",
    "              \"splitter\":[\"best\"],\n",
    "              \"max_features\":range(30, len(model_df.columns))} \n",
    "\n",
    "# last run\n",
    "# KNeighborsClassifier(algorithm='ball_tree', leaf_size=10, n_neighbors=90, weights='distance')\n",
    "knn_param_dict = {\"n_neighbors\":range(50, 110, 10),\n",
    "                 \"weights\":[\"distance\", \"uniform\"],\n",
    "                 \"algorithm\":[\"ball_tree\", \"kd_tree\"],\n",
    "                 \"leaf_size\": range(5, 16, 2)}"
   ]
  },
  {
   "cell_type": "code",
   "execution_count": 31,
   "metadata": {},
   "outputs": [],
   "source": [
    "grid_tree = GridSearchCV(tree, tree_param_dict, cv=10, scoring=\"f1\", n_jobs=-1, verbose=1)\n",
    "grid_knn = GridSearchCV(knn, knn_param_dict, cv=10, scoring=\"f1\", n_jobs=-1, verbose=1)"
   ]
  },
  {
   "cell_type": "code",
   "execution_count": 32,
   "metadata": {
    "scrolled": true
   },
   "outputs": [
    {
     "name": "stdout",
     "output_type": "stream",
     "text": [
      "Fitting 10 folds for each of 396 candidates, totalling 3960 fits\n"
     ]
    },
    {
     "name": "stderr",
     "output_type": "stream",
     "text": [
      "[Parallel(n_jobs=-1)]: Using backend LokyBackend with 4 concurrent workers.\n",
      "[Parallel(n_jobs=-1)]: Done  42 tasks      | elapsed:    8.2s\n",
      "[Parallel(n_jobs=-1)]: Done 192 tasks      | elapsed:   29.8s\n",
      "[Parallel(n_jobs=-1)]: Done 442 tasks      | elapsed:  1.2min\n",
      "[Parallel(n_jobs=-1)]: Done 792 tasks      | elapsed:  2.3min\n",
      "[Parallel(n_jobs=-1)]: Done 1242 tasks      | elapsed:  3.7min\n",
      "[Parallel(n_jobs=-1)]: Done 1792 tasks      | elapsed:  5.5min\n",
      "[Parallel(n_jobs=-1)]: Done 2442 tasks      | elapsed:  7.8min\n",
      "[Parallel(n_jobs=-1)]: Done 3192 tasks      | elapsed: 10.6min\n",
      "[Parallel(n_jobs=-1)]: Done 3960 out of 3960 | elapsed: 13.7min finished\n"
     ]
    }
   ],
   "source": [
    "y_all_grid_tree = grid_tree.fit(X_train, y_train)\n"
   ]
  },
  {
   "cell_type": "code",
   "execution_count": 41,
   "metadata": {},
   "outputs": [
    {
     "name": "stdout",
     "output_type": "stream",
     "text": [
      "{'criterion': 'entropy', 'max_depth': 20, 'max_features': 49, 'min_samples_leaf': 10, 'splitter': 'best'}\n",
      "DecisionTreeClassifier(criterion='entropy', max_depth=20, max_features=49,\n",
      "                       min_samples_leaf=10)\n",
      "Overfitting Check\n",
      "Train GridSearch DecisionTree F1 score:  0.855721393034826\n",
      "Test GridSearch DecisionTree F1 score:  0.8631032927379341\n"
     ]
    }
   ],
   "source": [
    "# gridsearch decision tree parameter result\n",
    "print(grid_tree.best_params_)\n",
    "print(grid_tree.best_estimator_)\n",
    "# make predictions for train and test\n",
    "grid_tree_pred_train = grid_tree.best_estimator_.predict(X_train)\n",
    "grid_tree_pred_test = grid_tree.best_estimator_.predict(X_test)\n",
    "\n",
    "#check for significant difference in F1 between train and test for overfitting\n",
    "print(\"Overfitting Check\")\n",
    "print(\"Train GridSearch DecisionTree F1 score: \", f1_score(y_train, grid_tree_pred_train))\n",
    "print(\"Test GridSearch DecisionTree F1 score: \", f1_score(y_test, grid_tree_pred_test))"
   ]
  },
  {
   "cell_type": "code",
   "execution_count": null,
   "metadata": {},
   "outputs": [],
   "source": [
    "y_all_grid_knn = grid_knn.fit(scaled_data_train, y_train)"
   ]
  },
  {
   "cell_type": "code",
   "execution_count": 18,
   "metadata": {},
   "outputs": [
    {
     "name": "stdout",
     "output_type": "stream",
     "text": [
      "{'algorithm': 'ball_tree', 'leaf_size': 10, 'n_neighbors': 90, 'weights': 'distance'}\n",
      "KNeighborsClassifier(algorithm='ball_tree', leaf_size=10, n_neighbors=90,\n",
      "                     weights='distance')\n",
      "Overfitting Check\n",
      "Train GridSearch KNN F1 score:  0.9996182623301267\n",
      "Test GridSearch KNN F1 score:  0.8888417029408642\n"
     ]
    }
   ],
   "source": [
    "# gridsearch knn parameter result\n",
    "print(grid_knn.best_params_)\n",
    "print(grid_knn.best_estimator_)\n",
    "\n",
    "grid_knn_pred_train = grid_knn.best_estimator_.predict(scaled_data_train)\n",
    "grid_knn_pred_test = grid_knn.best_estimator_.predict(scaled_data_test)\n",
    "\n",
    "print(\"Overfitting Check\")\n",
    "print(\"Train GridSearch KNN F1 score: \", f1_score(y_train, grid_knn_pred_train))\n",
    "print(\"Test GridSearch KNN F1 score: \", f1_score(y_test, grid_knn_pred_test))"
   ]
  },
  {
   "cell_type": "code",
   "execution_count": null,
   "metadata": {},
   "outputs": [],
   "source": []
  },
  {
   "cell_type": "code",
   "execution_count": null,
   "metadata": {},
   "outputs": [],
   "source": []
  },
  {
   "cell_type": "code",
   "execution_count": null,
   "metadata": {},
   "outputs": [],
   "source": []
  },
  {
   "cell_type": "markdown",
   "metadata": {},
   "source": [
    "### Current Metrics to Beat:\n",
    "\n",
    "Current:Decision Tree <br>\n",
    "Train GridSearch DecisionTree F1 score:  0.855721393034826 <br>\n",
    "Test GridSearch DecisionTree F1 score:  0.8631032927379341 <br>\n",
    "\n",
    "Old:Decision Tree <br>\n",
    "Train GridSearch DecisionTree F1 score:  0.68 <br>\n",
    "Test GridSearch DecisionTree F1 score:  0.68 <br>"
   ]
  },
  {
   "cell_type": "markdown",
   "metadata": {},
   "source": [
    "## Saving Models Through Pickle"
   ]
  },
  {
   "cell_type": "code",
   "execution_count": 23,
   "metadata": {},
   "outputs": [],
   "source": [
    "# GridSearchCV Decision Tree Pickel\n",
    "with open(r\"..\\model\\grid_tree.pickle\", \"wb\") as grid_tree_pickle:\n",
    "    pickle.dump(grid_tree, grid_tree_pickle)"
   ]
  },
  {
   "cell_type": "code",
   "execution_count": 52,
   "metadata": {},
   "outputs": [],
   "source": [
    "# Engineered Feature Only Standard Scaler\n",
    "with open(r\"..\\model\\eng_scale.pickle\", \"wb\") as scaler_eng_features:\n",
    "    pickle.dump(eng_scaler, scaler_eng_features)\n",
    "# GridSearchCV KNN Pickle\n",
    "with open(r\"..\\model\\grid_knn.pickle\", \"wb\") as model:\n",
    "    pickle.dump(grid_knn, model)"
   ]
  },
  {
   "cell_type": "code",
   "execution_count": null,
   "metadata": {},
   "outputs": [],
   "source": []
  }
 ],
 "metadata": {
  "kernelspec": {
   "display_name": "Python 3",
   "language": "python",
   "name": "python3"
  },
  "language_info": {
   "codemirror_mode": {
    "name": "ipython",
    "version": 3
   },
   "file_extension": ".py",
   "mimetype": "text/x-python",
   "name": "python",
   "nbconvert_exporter": "python",
   "pygments_lexer": "ipython3",
   "version": "3.7.1"
  }
 },
 "nbformat": 4,
 "nbformat_minor": 4
}
