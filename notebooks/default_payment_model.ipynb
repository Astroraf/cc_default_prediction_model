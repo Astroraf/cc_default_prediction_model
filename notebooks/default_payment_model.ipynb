{
 "cells": [
  {
   "cell_type": "markdown",
   "metadata": {},
   "source": [
    "# Summary of stuff"
   ]
  },
  {
   "cell_type": "markdown",
   "metadata": {},
   "source": [
    "## Model Data Import"
   ]
  },
  {
   "cell_type": "code",
   "execution_count": 47,
   "metadata": {},
   "outputs": [],
   "source": [
    "from sklearn.utils import resample\n",
    "from sklearn.model_selection import train_test_split\n",
    "from sklearn.preprocessing import StandardScaler\n",
    "from sklearn.metrics import f1_score\n",
    "\n",
    "from sklearn.dummy import DummyClassifier\n",
    "from sklearn.linear_model import LogisticRegression\n",
    "from sklearn.neighbors import KNeighborsClassifier\n",
    "from sklearn.tree import DecisionTreeClassifier\n",
    "from sklearn.model_selection import GridSearchCV\n",
    "\n",
    "import os\n",
    "import numpy as np\n",
    "import pickle\n",
    "import pandas as pd"
   ]
  },
  {
   "cell_type": "code",
   "execution_count": 2,
   "metadata": {},
   "outputs": [],
   "source": [
    "model_df = pd.read_csv(r\"..\\data\\training_data_eda.csv\")"
   ]
  },
  {
   "cell_type": "code",
   "execution_count": 3,
   "metadata": {},
   "outputs": [],
   "source": [
    "model_df = model_df.drop(columns=\"Unnamed: 0\")"
   ]
  },
  {
   "cell_type": "code",
   "execution_count": 4,
   "metadata": {
    "scrolled": true
   },
   "outputs": [
    {
     "data": {
      "text/html": [
       "<div>\n",
       "<style scoped>\n",
       "    .dataframe tbody tr th:only-of-type {\n",
       "        vertical-align: middle;\n",
       "    }\n",
       "\n",
       "    .dataframe tbody tr th {\n",
       "        vertical-align: top;\n",
       "    }\n",
       "\n",
       "    .dataframe thead th {\n",
       "        text-align: right;\n",
       "    }\n",
       "</style>\n",
       "<table border=\"1\" class=\"dataframe\">\n",
       "  <thead>\n",
       "    <tr style=\"text-align: right;\">\n",
       "      <th></th>\n",
       "      <th>max_credit</th>\n",
       "      <th>gender</th>\n",
       "      <th>education</th>\n",
       "      <th>marital_status</th>\n",
       "      <th>age</th>\n",
       "      <th>pay_status_sep</th>\n",
       "      <th>pay_status_aug</th>\n",
       "      <th>pay_status_jul</th>\n",
       "      <th>pay_status_jun</th>\n",
       "      <th>pay_status_may</th>\n",
       "      <th>...</th>\n",
       "      <th>carry_jun</th>\n",
       "      <th>carry_may</th>\n",
       "      <th>carry_apr</th>\n",
       "      <th>carry_ratio_sep</th>\n",
       "      <th>carry_ratio_aug</th>\n",
       "      <th>carry_ratio_jul</th>\n",
       "      <th>carry_ratio_jun</th>\n",
       "      <th>carry_ration_may</th>\n",
       "      <th>carry_ratio_apr</th>\n",
       "      <th>pay_status_sum</th>\n",
       "    </tr>\n",
       "  </thead>\n",
       "  <tbody>\n",
       "    <tr>\n",
       "      <th>0</th>\n",
       "      <td>220000</td>\n",
       "      <td>1</td>\n",
       "      <td>1</td>\n",
       "      <td>2</td>\n",
       "      <td>36</td>\n",
       "      <td>0</td>\n",
       "      <td>0</td>\n",
       "      <td>0</td>\n",
       "      <td>0</td>\n",
       "      <td>0</td>\n",
       "      <td>...</td>\n",
       "      <td>215187</td>\n",
       "      <td>170872</td>\n",
       "      <td>40826</td>\n",
       "      <td>0.966355</td>\n",
       "      <td>0.973409</td>\n",
       "      <td>0.944450</td>\n",
       "      <td>0.978123</td>\n",
       "      <td>0.776691</td>\n",
       "      <td>0.185573</td>\n",
       "      <td>0</td>\n",
       "    </tr>\n",
       "    <tr>\n",
       "      <th>1</th>\n",
       "      <td>200000</td>\n",
       "      <td>1</td>\n",
       "      <td>3</td>\n",
       "      <td>2</td>\n",
       "      <td>29</td>\n",
       "      <td>-1</td>\n",
       "      <td>-1</td>\n",
       "      <td>-1</td>\n",
       "      <td>-1</td>\n",
       "      <td>-1</td>\n",
       "      <td>...</td>\n",
       "      <td>0</td>\n",
       "      <td>0</td>\n",
       "      <td>0</td>\n",
       "      <td>0.000000</td>\n",
       "      <td>0.000000</td>\n",
       "      <td>0.000000</td>\n",
       "      <td>0.000000</td>\n",
       "      <td>0.000000</td>\n",
       "      <td>0.000000</td>\n",
       "      <td>-6</td>\n",
       "    </tr>\n",
       "    <tr>\n",
       "      <th>2</th>\n",
       "      <td>180000</td>\n",
       "      <td>1</td>\n",
       "      <td>1</td>\n",
       "      <td>2</td>\n",
       "      <td>27</td>\n",
       "      <td>-2</td>\n",
       "      <td>-2</td>\n",
       "      <td>-2</td>\n",
       "      <td>-2</td>\n",
       "      <td>-2</td>\n",
       "      <td>...</td>\n",
       "      <td>0</td>\n",
       "      <td>0</td>\n",
       "      <td>0</td>\n",
       "      <td>0.000000</td>\n",
       "      <td>0.000000</td>\n",
       "      <td>0.000000</td>\n",
       "      <td>0.000000</td>\n",
       "      <td>0.000000</td>\n",
       "      <td>0.000000</td>\n",
       "      <td>-12</td>\n",
       "    </tr>\n",
       "    <tr>\n",
       "      <th>3</th>\n",
       "      <td>80000</td>\n",
       "      <td>0</td>\n",
       "      <td>2</td>\n",
       "      <td>2</td>\n",
       "      <td>32</td>\n",
       "      <td>0</td>\n",
       "      <td>0</td>\n",
       "      <td>0</td>\n",
       "      <td>0</td>\n",
       "      <td>0</td>\n",
       "      <td>...</td>\n",
       "      <td>42334</td>\n",
       "      <td>40768</td>\n",
       "      <td>41027</td>\n",
       "      <td>0.618988</td>\n",
       "      <td>0.627150</td>\n",
       "      <td>0.575887</td>\n",
       "      <td>0.529175</td>\n",
       "      <td>0.509600</td>\n",
       "      <td>0.512837</td>\n",
       "      <td>0</td>\n",
       "    </tr>\n",
       "    <tr>\n",
       "      <th>4</th>\n",
       "      <td>10000</td>\n",
       "      <td>0</td>\n",
       "      <td>2</td>\n",
       "      <td>2</td>\n",
       "      <td>27</td>\n",
       "      <td>0</td>\n",
       "      <td>0</td>\n",
       "      <td>0</td>\n",
       "      <td>0</td>\n",
       "      <td>0</td>\n",
       "      <td>...</td>\n",
       "      <td>5144</td>\n",
       "      <td>2339</td>\n",
       "      <td>1697</td>\n",
       "      <td>0.625700</td>\n",
       "      <td>0.689500</td>\n",
       "      <td>0.427800</td>\n",
       "      <td>0.514400</td>\n",
       "      <td>0.233900</td>\n",
       "      <td>0.169700</td>\n",
       "      <td>0</td>\n",
       "    </tr>\n",
       "  </tbody>\n",
       "</table>\n",
       "<p>5 rows × 38 columns</p>\n",
       "</div>"
      ],
      "text/plain": [
       "   max_credit  gender  education  marital_status  age  pay_status_sep  \\\n",
       "0      220000       1          1               2   36               0   \n",
       "1      200000       1          3               2   29              -1   \n",
       "2      180000       1          1               2   27              -2   \n",
       "3       80000       0          2               2   32               0   \n",
       "4       10000       0          2               2   27               0   \n",
       "\n",
       "   pay_status_aug  pay_status_jul  pay_status_jun  pay_status_may  ...  \\\n",
       "0               0               0               0               0  ...   \n",
       "1              -1              -1              -1              -1  ...   \n",
       "2              -2              -2              -2              -2  ...   \n",
       "3               0               0               0               0  ...   \n",
       "4               0               0               0               0  ...   \n",
       "\n",
       "   carry_jun  carry_may  carry_apr  carry_ratio_sep  carry_ratio_aug  \\\n",
       "0     215187     170872      40826         0.966355         0.973409   \n",
       "1          0          0          0         0.000000         0.000000   \n",
       "2          0          0          0         0.000000         0.000000   \n",
       "3      42334      40768      41027         0.618988         0.627150   \n",
       "4       5144       2339       1697         0.625700         0.689500   \n",
       "\n",
       "   carry_ratio_jul  carry_ratio_jun  carry_ration_may  carry_ratio_apr  \\\n",
       "0         0.944450         0.978123          0.776691         0.185573   \n",
       "1         0.000000         0.000000          0.000000         0.000000   \n",
       "2         0.000000         0.000000          0.000000         0.000000   \n",
       "3         0.575887         0.529175          0.509600         0.512837   \n",
       "4         0.427800         0.514400          0.233900         0.169700   \n",
       "\n",
       "   pay_status_sum  \n",
       "0               0  \n",
       "1              -6  \n",
       "2             -12  \n",
       "3               0  \n",
       "4               0  \n",
       "\n",
       "[5 rows x 38 columns]"
      ]
     },
     "execution_count": 4,
     "metadata": {},
     "output_type": "execute_result"
    }
   ],
   "source": [
    "model_df.head()"
   ]
  },
  {
   "cell_type": "markdown",
   "metadata": {},
   "source": [
    "## Upsample Minority Result"
   ]
  },
  {
   "cell_type": "code",
   "execution_count": 5,
   "metadata": {
    "scrolled": false
   },
   "outputs": [
    {
     "data": {
      "text/plain": [
       "default\n",
       "0    17471\n",
       "1     5028\n",
       "Name: age, dtype: int64"
      ]
     },
     "execution_count": 5,
     "metadata": {},
     "output_type": "execute_result"
    }
   ],
   "source": [
    "model_df.groupby(\"default\").age.count()"
   ]
  },
  {
   "cell_type": "code",
   "execution_count": 6,
   "metadata": {},
   "outputs": [],
   "source": [
    "defaulted = model_df[model_df.default == 1]\n",
    "undefaulted = model_df[model_df.default == 0]"
   ]
  },
  {
   "cell_type": "code",
   "execution_count": 7,
   "metadata": {},
   "outputs": [],
   "source": [
    "defaulted_upsampled = resample(defaulted,\n",
    "                          replace=True, # sample with replacement\n",
    "                          n_samples=undefaulted.shape[0], # match number in majority class\n",
    "                          random_state=42) # reproducible result"
   ]
  },
  {
   "cell_type": "code",
   "execution_count": 8,
   "metadata": {
    "scrolled": true
   },
   "outputs": [
    {
     "data": {
      "text/plain": [
       "1    17471\n",
       "0    17471\n",
       "Name: default, dtype: int64"
      ]
     },
     "execution_count": 8,
     "metadata": {},
     "output_type": "execute_result"
    }
   ],
   "source": [
    "resampled_df  = pd.concat([undefaulted, defaulted_upsampled])\n",
    "resampled_df.default.value_counts()"
   ]
  },
  {
   "cell_type": "code",
   "execution_count": 9,
   "metadata": {},
   "outputs": [],
   "source": [
    "X = resampled_df.drop(columns=\"default\")\n",
    "y = resampled_df.default"
   ]
  },
  {
   "cell_type": "code",
   "execution_count": 10,
   "metadata": {},
   "outputs": [],
   "source": [
    "X_train, X_test, y_train, y_test = train_test_split(X, y, random_state=42)"
   ]
  },
  {
   "cell_type": "markdown",
   "metadata": {},
   "source": [
    "### Standard Scaling for KNN"
   ]
  },
  {
   "cell_type": "code",
   "execution_count": 11,
   "metadata": {},
   "outputs": [],
   "source": [
    "scaler = StandardScaler()\n",
    "scaled_data_train = scaler.fit_transform(X_train)\n",
    "scaled_data_test = scaler.transform(X_test)"
   ]
  },
  {
   "cell_type": "markdown",
   "metadata": {},
   "source": [
    "## Baseline Models"
   ]
  },
  {
   "cell_type": "code",
   "execution_count": 12,
   "metadata": {},
   "outputs": [],
   "source": [
    "dummy = DummyClassifier()\n",
    "logreg = LogisticRegression(max_iter = 10**5, verbose=1)\n",
    "tree = DecisionTreeClassifier()\n",
    "knn = KNeighborsClassifier()"
   ]
  },
  {
   "cell_type": "code",
   "execution_count": 13,
   "metadata": {
    "scrolled": true
   },
   "outputs": [
    {
     "name": "stderr",
     "output_type": "stream",
     "text": [
      "C:\\Users\\Yung\\Anaconda3\\lib\\site-packages\\sklearn\\dummy.py:132: FutureWarning: The default value of strategy will change from stratified to prior in 0.24.\n",
      "  \"stratified to prior in 0.24.\", FutureWarning)\n",
      "[Parallel(n_jobs=1)]: Using backend SequentialBackend with 1 concurrent workers.\n",
      "[Parallel(n_jobs=1)]: Done   1 out of   1 | elapsed:    0.8s finished\n"
     ]
    },
    {
     "data": {
      "text/plain": [
       "KNeighborsClassifier()"
      ]
     },
     "execution_count": 13,
     "metadata": {},
     "output_type": "execute_result"
    }
   ],
   "source": [
    "dummy.fit(X_train, y_train)\n",
    "logreg.fit(X_train, y_train)\n",
    "tree.fit(X_train, y_train)\n",
    "knn.fit(scaled_data_train, y_train)"
   ]
  },
  {
   "cell_type": "code",
   "execution_count": 14,
   "metadata": {},
   "outputs": [],
   "source": [
    "dummy_pred = dummy.predict(X_test)\n",
    "logreg_pred = logreg.predict(X_test)\n",
    "tree_pred = tree.predict(X_test)\n",
    "knn_pred = knn.predict(scaled_data_test)"
   ]
  },
  {
   "cell_type": "code",
   "execution_count": 15,
   "metadata": {
    "scrolled": true
   },
   "outputs": [
    {
     "name": "stdout",
     "output_type": "stream",
     "text": [
      "Baseline Dummy F1 score:  0.5075800112296462\n",
      "Baseline LogReg F1 score:  0.6664610322845979\n",
      "Baseline DecisionTree F1 score:  0.8898054145516074\n",
      "Baseline KNN F1 score:  0.7646932646932647\n"
     ]
    }
   ],
   "source": [
    "# checking accuracy\n",
    "print(\"Baseline Dummy F1 score: \", f1_score(y_test, dummy_pred))\n",
    "print(\"Baseline LogReg F1 score: \", f1_score(y_test, logreg_pred))\n",
    "print(\"Baseline DecisionTree F1 score: \", f1_score(y_test, tree_pred))\n",
    "print(\"Baseline KNN F1 score: \", f1_score(y_test, knn_pred))"
   ]
  },
  {
   "cell_type": "markdown",
   "metadata": {},
   "source": [
    "### Overfitting check"
   ]
  },
  {
   "cell_type": "code",
   "execution_count": 16,
   "metadata": {},
   "outputs": [],
   "source": [
    "log_pred_train = logreg.predict(X_train)\n",
    "log_pred_test = logreg.predict(X_test)"
   ]
  },
  {
   "cell_type": "code",
   "execution_count": 17,
   "metadata": {},
   "outputs": [
    {
     "name": "stdout",
     "output_type": "stream",
     "text": [
      "Baseline Test LogReg F1 score:  0.657944052608266\n",
      "Baseline Test LogReg F1 score:  0.6664610322845979\n"
     ]
    }
   ],
   "source": [
    "print(\"Baseline Test LogReg F1 score: \", f1_score(y_train, log_pred_train))\n",
    "print(\"Baseline Test LogReg F1 score: \", f1_score(y_test, log_pred_test))"
   ]
  },
  {
   "cell_type": "markdown",
   "metadata": {},
   "source": [
    "## Using Engineered Feature Only\n",
    "Keeping upsampled dataset"
   ]
  },
  {
   "cell_type": "code",
   "execution_count": 18,
   "metadata": {
    "scrolled": false
   },
   "outputs": [
    {
     "data": {
      "text/plain": [
       "Index(['max_credit', 'gender', 'education', 'marital_status', 'age',\n",
       "       'pay_status_sep', 'pay_status_aug', 'pay_status_jul', 'pay_status_jun',\n",
       "       'pay_status_may', 'pay_status_apr', 'bill_sep', 'bill_aug', 'bill_jul',\n",
       "       'bill_jun', 'bill_may', 'bill_apr', 'payment_sep', 'payment_aug',\n",
       "       'payments_jul', 'payment_jun', 'payment_may', 'payment_apr', 'default',\n",
       "       'married', 'carry_sep', 'carry_aug', 'carry_jul', 'carry_jun',\n",
       "       'carry_may', 'carry_apr', 'carry_ratio_sep', 'carry_ratio_aug',\n",
       "       'carry_ratio_jul', 'carry_ratio_jun', 'carry_ration_may',\n",
       "       'carry_ratio_apr', 'pay_status_sum'],\n",
       "      dtype='object')"
      ]
     },
     "execution_count": 18,
     "metadata": {},
     "output_type": "execute_result"
    }
   ],
   "source": [
    "resampled_df.columns"
   ]
  },
  {
   "cell_type": "code",
   "execution_count": 19,
   "metadata": {},
   "outputs": [],
   "source": [
    "eng_feature = ['max_credit', 'gender', 'education',\n",
    "       'pay_status_sep', 'pay_status_aug', 'pay_status_jul', 'pay_status_jun', 'pay_status_may', 'pay_status_apr',\n",
    "       'married', 'carry_sep', 'carry_aug', 'carry_jul', 'carry_jun', 'carry_may', 'carry_apr', 'carry_ratio_sep', 'carry_ratio_aug',\n",
    "       'carry_ratio_jul', 'carry_ratio_jun', 'carry_ration_may',\n",
    "       'carry_ratio_apr', 'pay_status_sum']"
   ]
  },
  {
   "cell_type": "code",
   "execution_count": 20,
   "metadata": {},
   "outputs": [],
   "source": [
    "eng_X = resampled_df[eng_feature]\n",
    "\n",
    "X_train_eng, X_test_eng, y_train_eng, y_test_eng = train_test_split(eng_X, y, random_state=42)"
   ]
  },
  {
   "cell_type": "markdown",
   "metadata": {},
   "source": [
    "### Scaled Feature Engineerd Data for KNN"
   ]
  },
  {
   "cell_type": "code",
   "execution_count": 21,
   "metadata": {},
   "outputs": [],
   "source": [
    "scaled_data_train_eng = scaler.fit_transform(X_train_eng)\n",
    "scaled_data_test_eng = scaler.transform(X_test_eng)"
   ]
  },
  {
   "cell_type": "code",
   "execution_count": 22,
   "metadata": {
    "scrolled": true
   },
   "outputs": [
    {
     "name": "stderr",
     "output_type": "stream",
     "text": [
      "C:\\Users\\Yung\\Anaconda3\\lib\\site-packages\\sklearn\\dummy.py:132: FutureWarning: The default value of strategy will change from stratified to prior in 0.24.\n",
      "  \"stratified to prior in 0.24.\", FutureWarning)\n",
      "[Parallel(n_jobs=1)]: Using backend SequentialBackend with 1 concurrent workers.\n",
      "[Parallel(n_jobs=1)]: Done   1 out of   1 | elapsed:    0.0s finished\n"
     ]
    },
    {
     "data": {
      "text/plain": [
       "KNeighborsClassifier()"
      ]
     },
     "execution_count": 22,
     "metadata": {},
     "output_type": "execute_result"
    }
   ],
   "source": [
    "dummy.fit(X_train_eng, y_train_eng)\n",
    "logreg.fit(X_train_eng, y_train_eng)\n",
    "tree.fit(X_train_eng, y_train_eng)\n",
    "knn.fit(scaled_data_train_eng, y_train)"
   ]
  },
  {
   "cell_type": "code",
   "execution_count": 23,
   "metadata": {},
   "outputs": [],
   "source": [
    "dummy_pred = dummy.predict(X_test_eng)\n",
    "logreg_pred = logreg.predict(X_test_eng)\n",
    "tree_pred = tree.predict(X_test_eng)\n",
    "knn_pred = knn.predict(scaled_data_test_eng)"
   ]
  },
  {
   "cell_type": "code",
   "execution_count": 25,
   "metadata": {
    "scrolled": true
   },
   "outputs": [
    {
     "name": "stdout",
     "output_type": "stream",
     "text": [
      "F1 Scores with Engineerd Features Only\n",
      "Dummy F1 score:  0.5089800067773634\n",
      "LogReg F1 score:  0.45867943122624244\n",
      "DecisionTree F1 score:  0.8859461768475011\n",
      "KNN F1 score:  0.7721478307445098\n"
     ]
    }
   ],
   "source": [
    "# checking accuracy\n",
    "print(\"F1 Scores with Engineerd Features Only\")\n",
    "print(\"Dummy F1 score: \", f1_score(y_test, dummy_pred))\n",
    "print(\"LogReg F1 score: \", f1_score(y_test, logreg_pred))\n",
    "print(\"DecisionTree F1 score: \", f1_score(y_test, tree_pred))\n",
    "print(\"KNN F1 score: \", f1_score(y_test, knn_pred))"
   ]
  },
  {
   "cell_type": "markdown",
   "metadata": {},
   "source": [
    "## GridSearchCV for DecisionTree and KNN"
   ]
  },
  {
   "cell_type": "code",
   "execution_count": 26,
   "metadata": {},
   "outputs": [],
   "source": [
    "tree_param_dict = {\"max_depth\":range(5,10,1), # optimal max depth is 6-8\n",
    "              \"criterion\":[\"gini\", \"entropy\"], #test for both criterion\n",
    "              \"min_samples_leaf\":range(600,1000,50), #min sample leaf is 600-850\n",
    "              \"splitter\":[\"best\", \"random\"], #check for best splitter\n",
    "              \"max_features\":range(6, len(eng_feature))} #default is sqrt(len(eng_features))\n",
    "\n",
    "knn_param_dict = {\"n_neighbors\":range(30, 60, 5), #optimal at 45\n",
    "                 \"weights\":[\"uniform\", \"distance\"],\n",
    "                 \"algorithm\":[\"kd_tree\", \"ball_tree\"],\n",
    "                 \"leaf_size\": range(30, 70, 10)} #optimal at 50"
   ]
  },
  {
   "cell_type": "code",
   "execution_count": 27,
   "metadata": {},
   "outputs": [],
   "source": [
    "grid_tree = GridSearchCV(tree, tree_param_dict, cv=10, scoring=\"f1\", n_jobs=-1, verbose=1)"
   ]
  },
  {
   "cell_type": "code",
   "execution_count": 28,
   "metadata": {},
   "outputs": [],
   "source": [
    "grid_knn = GridSearchCV(knn, knn_param_dict, cv=10, scoring=\"f1\", n_jobs=-1, verbose=1)"
   ]
  },
  {
   "cell_type": "code",
   "execution_count": 29,
   "metadata": {
    "scrolled": false
   },
   "outputs": [
    {
     "name": "stdout",
     "output_type": "stream",
     "text": [
      "Fitting 10 folds for each of 3680 candidates, totalling 36800 fits\n"
     ]
    },
    {
     "name": "stderr",
     "output_type": "stream",
     "text": [
      "[Parallel(n_jobs=-1)]: Using backend LokyBackend with 4 concurrent workers.\n",
      "[Parallel(n_jobs=-1)]: Done  45 tasks      | elapsed:    3.4s\n",
      "[Parallel(n_jobs=-1)]: Done 1176 tasks      | elapsed:   13.5s\n",
      "[Parallel(n_jobs=-1)]: Done 3176 tasks      | elapsed:   46.7s\n",
      "[Parallel(n_jobs=-1)]: Done 5976 tasks      | elapsed:  1.4min\n",
      "[Parallel(n_jobs=-1)]: Done 9576 tasks      | elapsed:  2.4min\n",
      "[Parallel(n_jobs=-1)]: Done 13892 tasks      | elapsed:  3.7min\n",
      "[Parallel(n_jobs=-1)]: Done 16268 tasks      | elapsed:  4.5min\n",
      "[Parallel(n_jobs=-1)]: Done 21904 tasks      | elapsed:  6.3min\n",
      "[Parallel(n_jobs=-1)]: Done 26748 tasks      | elapsed:  7.7min\n",
      "[Parallel(n_jobs=-1)]: Done 31588 tasks      | elapsed:  9.4min\n",
      "[Parallel(n_jobs=-1)]: Done 35276 tasks      | elapsed: 10.9min\n",
      "[Parallel(n_jobs=-1)]: Done 36793 out of 36800 | elapsed: 11.6min remaining:    0.0s\n",
      "[Parallel(n_jobs=-1)]: Done 36800 out of 36800 | elapsed: 11.6min finished\n"
     ]
    }
   ],
   "source": [
    "y_grid_tree = grid_tree.fit(X_train_eng, y_train_eng)"
   ]
  },
  {
   "cell_type": "code",
   "execution_count": 35,
   "metadata": {
    "scrolled": false
   },
   "outputs": [
    {
     "name": "stdout",
     "output_type": "stream",
     "text": [
      "{'criterion': 'entropy', 'max_depth': 7, 'max_features': 12, 'min_samples_leaf': 900, 'splitter': 'best'}\n",
      "DecisionTreeClassifier(criterion='entropy', max_depth=7, max_features=12,\n",
      "                       min_samples_leaf=900)\n",
      "Overfitting Check\n",
      "Train GridSearch DecisionTree F1 score:  0.6603086526790358\n",
      "Test GridSearch DecisionTree F1 score:  0.6535742340926944\n"
     ]
    }
   ],
   "source": [
    "# gridsearch decision tree parameter result\n",
    "print(grid_tree.best_params_)\n",
    "print(grid_tree.best_estimator_)\n",
    "\n",
    "# make predictions for train and test\n",
    "grid_tree_pred_train = grid_tree.best_estimator_.predict(X_train_eng)\n",
    "grid_tree_pred_test = grid_tree.best_estimator_.predict(X_test_eng)\n",
    "\n",
    "#check for significant difference in F1 between train and test for overfitting\n",
    "print(\"Overfitting Check\")\n",
    "print(\"Train GridSearch DecisionTree F1 score: \", f1_score(y_train_eng, grid_tree_pred_train))\n",
    "print(\"Test GridSearch DecisionTree F1 score: \", f1_score(y_test_eng, grid_tree_pred_test))"
   ]
  },
  {
   "cell_type": "code",
   "execution_count": 36,
   "metadata": {
    "scrolled": true
   },
   "outputs": [
    {
     "name": "stdout",
     "output_type": "stream",
     "text": [
      "Fitting 10 folds for each of 324 candidates, totalling 3240 fits\n"
     ]
    },
    {
     "name": "stderr",
     "output_type": "stream",
     "text": [
      "[Parallel(n_jobs=-1)]: Using backend LokyBackend with 4 concurrent workers.\n",
      "[Parallel(n_jobs=-1)]: Done  42 tasks      | elapsed:   22.4s\n",
      "[Parallel(n_jobs=-1)]: Done 192 tasks      | elapsed:  2.1min\n",
      "[Parallel(n_jobs=-1)]: Done 442 tasks      | elapsed:  5.1min\n",
      "[Parallel(n_jobs=-1)]: Done 792 tasks      | elapsed:  9.7min\n",
      "[Parallel(n_jobs=-1)]: Done 1242 tasks      | elapsed: 16.1min\n",
      "[Parallel(n_jobs=-1)]: Done 1792 tasks      | elapsed: 27.0min\n",
      "[Parallel(n_jobs=-1)]: Done 2442 tasks      | elapsed: 44.2min\n",
      "[Parallel(n_jobs=-1)]: Done 3192 tasks      | elapsed: 64.5min\n",
      "[Parallel(n_jobs=-1)]: Done 3240 out of 3240 | elapsed: 65.9min finished\n"
     ]
    }
   ],
   "source": [
    "y_grid_knn = grid_knn.fit(scaled_data_train_eng, y_train_eng)"
   ]
  },
  {
   "cell_type": "code",
   "execution_count": 37,
   "metadata": {},
   "outputs": [
    {
     "name": "stdout",
     "output_type": "stream",
     "text": [
      "{'algorithm': 'ball_tree', 'leaf_size': 50, 'n_neighbors': 45, 'weights': 'distance'}\n",
      "KNeighborsClassifier(algorithm='ball_tree', leaf_size=50, n_neighbors=45,\n",
      "                     weights='distance')\n",
      "Overfitting Check\n"
     ]
    },
    {
     "ename": "NameError",
     "evalue": "name 'y_traom_eng' is not defined",
     "output_type": "error",
     "traceback": [
      "\u001b[1;31m---------------------------------------------------------------------------\u001b[0m",
      "\u001b[1;31mNameError\u001b[0m                                 Traceback (most recent call last)",
      "\u001b[1;32m<ipython-input-37-a95819e146f7>\u001b[0m in \u001b[0;36m<module>\u001b[1;34m\u001b[0m\n\u001b[0;32m      8\u001b[0m \u001b[1;33m\u001b[0m\u001b[0m\n\u001b[0;32m      9\u001b[0m \u001b[0mprint\u001b[0m\u001b[1;33m(\u001b[0m\u001b[1;34m\"Overfitting Check\"\u001b[0m\u001b[1;33m)\u001b[0m\u001b[1;33m\u001b[0m\u001b[1;33m\u001b[0m\u001b[0m\n\u001b[1;32m---> 10\u001b[1;33m \u001b[0mprint\u001b[0m\u001b[1;33m(\u001b[0m\u001b[1;34m\"GridSearch KNN F1 score: \"\u001b[0m\u001b[1;33m,\u001b[0m \u001b[0mf1_score\u001b[0m\u001b[1;33m(\u001b[0m\u001b[0my_traom_eng\u001b[0m\u001b[1;33m,\u001b[0m \u001b[0mgrid_knn_pred_train\u001b[0m\u001b[1;33m)\u001b[0m\u001b[1;33m)\u001b[0m\u001b[1;33m\u001b[0m\u001b[1;33m\u001b[0m\u001b[0m\n\u001b[0m\u001b[0;32m     11\u001b[0m \u001b[0mprint\u001b[0m\u001b[1;33m(\u001b[0m\u001b[1;34m\"GridSearch KNN F1 score: \"\u001b[0m\u001b[1;33m,\u001b[0m \u001b[0mf1_score\u001b[0m\u001b[1;33m(\u001b[0m\u001b[0my_test_eng\u001b[0m\u001b[1;33m,\u001b[0m \u001b[0mgrid_knn_pred_test\u001b[0m\u001b[1;33m)\u001b[0m\u001b[1;33m)\u001b[0m\u001b[1;33m\u001b[0m\u001b[1;33m\u001b[0m\u001b[0m\n",
      "\u001b[1;31mNameError\u001b[0m: name 'y_traom_eng' is not defined"
     ]
    }
   ],
   "source": [
    "# gridsearch knn parameter result\n",
    "print(grid_knn.best_params_)\n",
    "print(grid_knn.best_estimator_)\n",
    "\n",
    "grid_knn_pred_train = grid_knn.best_estimator_.predict(scaled_data_train_eng)\n",
    "grid_knn_pred_test = grid_knn.best_estimator_.predict(scaled_data_test_eng)\n"
   ]
  },
  {
   "cell_type": "code",
   "execution_count": 38,
   "metadata": {},
   "outputs": [
    {
     "name": "stdout",
     "output_type": "stream",
     "text": [
      "Overfitting Check\n",
      "GridSearch KNN F1 score:  0.9956541628545289\n",
      "GridSearch KNN F1 score:  0.8734335839598999\n"
     ]
    }
   ],
   "source": [
    "print(\"Overfitting Check\")\n",
    "print(\"GridSearch KNN F1 score: \", f1_score(y_train_eng, grid_knn_pred_train))\n",
    "print(\"GridSearch KNN F1 score: \", f1_score(y_test_eng, grid_knn_pred_test))"
   ]
  },
  {
   "cell_type": "code",
   "execution_count": 50,
   "metadata": {
    "scrolled": true
   },
   "outputs": [],
   "source": [
    "with open(r\"..\\model\\grid_knn_best.pickle\", \"wb\") as best_model:\n",
    "    pickle.dump(grid_knn.best_estimator_, best_model)"
   ]
  },
  {
   "cell_type": "code",
   "execution_count": 52,
   "metadata": {
    "scrolled": true
   },
   "outputs": [],
   "source": [
    "with open(r\"..\\model\\grid_knn.pickle\", \"wb\") as model:\n",
    "    pickle.dump(grid_knn, model)"
   ]
  },
  {
   "cell_type": "code",
   "execution_count": null,
   "metadata": {},
   "outputs": [],
   "source": []
  }
 ],
 "metadata": {
  "kernelspec": {
   "display_name": "Python 3",
   "language": "python",
   "name": "python3"
  },
  "language_info": {
   "codemirror_mode": {
    "name": "ipython",
    "version": 3
   },
   "file_extension": ".py",
   "mimetype": "text/x-python",
   "name": "python",
   "nbconvert_exporter": "python",
   "pygments_lexer": "ipython3",
   "version": "3.7.1"
  }
 },
 "nbformat": 4,
 "nbformat_minor": 4
}
