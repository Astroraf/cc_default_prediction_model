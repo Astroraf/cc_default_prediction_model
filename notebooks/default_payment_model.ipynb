{
 "cells": [
  {
   "cell_type": "markdown",
   "metadata": {},
   "source": [
    "# Summary of stuff"
   ]
  },
  {
   "cell_type": "markdown",
   "metadata": {},
   "source": [
    "## Model Data Import"
   ]
  },
  {
   "cell_type": "code",
   "execution_count": 1,
   "metadata": {},
   "outputs": [],
   "source": [
    "from sklearn.utils import resample\n",
    "from sklearn.model_selection import train_test_split\n",
    "from sklearn.preprocessing import StandardScaler\n",
    "from sklearn.metrics import f1_score\n",
    "\n",
    "from sklearn.dummy import DummyClassifier\n",
    "from sklearn.linear_model import LogisticRegression\n",
    "from sklearn.neighbors import KNeighborsClassifier\n",
    "from sklearn.tree import DecisionTreeClassifier\n",
    "from sklearn.model_selection import GridSearchCV\n",
    "\n",
    "import os\n",
    "import numpy as np\n",
    "import pickle\n",
    "import pandas as pd"
   ]
  },
  {
   "cell_type": "code",
   "execution_count": 2,
   "metadata": {},
   "outputs": [],
   "source": [
    "model_df = pd.read_csv(r\"..\\data\\training_data_eda.csv\")"
   ]
  },
  {
   "cell_type": "code",
   "execution_count": 3,
   "metadata": {},
   "outputs": [],
   "source": [
    "model_df = model_df.drop(columns=\"Unnamed: 0\")"
   ]
  },
  {
   "cell_type": "code",
   "execution_count": 4,
   "metadata": {
    "scrolled": true
   },
   "outputs": [
    {
     "data": {
      "text/html": [
       "<div>\n",
       "<style scoped>\n",
       "    .dataframe tbody tr th:only-of-type {\n",
       "        vertical-align: middle;\n",
       "    }\n",
       "\n",
       "    .dataframe tbody tr th {\n",
       "        vertical-align: top;\n",
       "    }\n",
       "\n",
       "    .dataframe thead th {\n",
       "        text-align: right;\n",
       "    }\n",
       "</style>\n",
       "<table border=\"1\" class=\"dataframe\">\n",
       "  <thead>\n",
       "    <tr style=\"text-align: right;\">\n",
       "      <th></th>\n",
       "      <th>max_credit</th>\n",
       "      <th>gender</th>\n",
       "      <th>education</th>\n",
       "      <th>marital_status</th>\n",
       "      <th>age</th>\n",
       "      <th>pay_status_sep</th>\n",
       "      <th>pay_status_aug</th>\n",
       "      <th>pay_status_jul</th>\n",
       "      <th>pay_status_jun</th>\n",
       "      <th>pay_status_may</th>\n",
       "      <th>...</th>\n",
       "      <th>full_pay_aug</th>\n",
       "      <th>full_pay_jul</th>\n",
       "      <th>full_pay_jun</th>\n",
       "      <th>full_pay__may</th>\n",
       "      <th>full_pay_apr</th>\n",
       "      <th>apr_may_bill_change</th>\n",
       "      <th>may_jun_bill_change</th>\n",
       "      <th>jun_jul_bill_change</th>\n",
       "      <th>jul_aug_bill_change</th>\n",
       "      <th>aug_sep_bill_change</th>\n",
       "    </tr>\n",
       "  </thead>\n",
       "  <tbody>\n",
       "    <tr>\n",
       "      <th>0</th>\n",
       "      <td>220000</td>\n",
       "      <td>1</td>\n",
       "      <td>1</td>\n",
       "      <td>2</td>\n",
       "      <td>36</td>\n",
       "      <td>0</td>\n",
       "      <td>0</td>\n",
       "      <td>0</td>\n",
       "      <td>0</td>\n",
       "      <td>0</td>\n",
       "      <td>...</td>\n",
       "      <td>0</td>\n",
       "      <td>0</td>\n",
       "      <td>0</td>\n",
       "      <td>0</td>\n",
       "      <td>0</td>\n",
       "      <td>-2746</td>\n",
       "      <td>39334</td>\n",
       "      <td>-3293</td>\n",
       "      <td>4268</td>\n",
       "      <td>430</td>\n",
       "    </tr>\n",
       "    <tr>\n",
       "      <th>1</th>\n",
       "      <td>200000</td>\n",
       "      <td>1</td>\n",
       "      <td>3</td>\n",
       "      <td>2</td>\n",
       "      <td>29</td>\n",
       "      <td>-1</td>\n",
       "      <td>-1</td>\n",
       "      <td>-1</td>\n",
       "      <td>-1</td>\n",
       "      <td>-1</td>\n",
       "      <td>...</td>\n",
       "      <td>0</td>\n",
       "      <td>0</td>\n",
       "      <td>0</td>\n",
       "      <td>0</td>\n",
       "      <td>0</td>\n",
       "      <td>0</td>\n",
       "      <td>0</td>\n",
       "      <td>0</td>\n",
       "      <td>0</td>\n",
       "      <td>0</td>\n",
       "    </tr>\n",
       "    <tr>\n",
       "      <th>2</th>\n",
       "      <td>180000</td>\n",
       "      <td>1</td>\n",
       "      <td>1</td>\n",
       "      <td>2</td>\n",
       "      <td>27</td>\n",
       "      <td>-2</td>\n",
       "      <td>-2</td>\n",
       "      <td>-2</td>\n",
       "      <td>-2</td>\n",
       "      <td>-2</td>\n",
       "      <td>...</td>\n",
       "      <td>1</td>\n",
       "      <td>1</td>\n",
       "      <td>1</td>\n",
       "      <td>1</td>\n",
       "      <td>1</td>\n",
       "      <td>0</td>\n",
       "      <td>0</td>\n",
       "      <td>0</td>\n",
       "      <td>0</td>\n",
       "      <td>0</td>\n",
       "    </tr>\n",
       "    <tr>\n",
       "      <th>3</th>\n",
       "      <td>80000</td>\n",
       "      <td>0</td>\n",
       "      <td>2</td>\n",
       "      <td>2</td>\n",
       "      <td>32</td>\n",
       "      <td>0</td>\n",
       "      <td>0</td>\n",
       "      <td>0</td>\n",
       "      <td>0</td>\n",
       "      <td>0</td>\n",
       "      <td>...</td>\n",
       "      <td>0</td>\n",
       "      <td>0</td>\n",
       "      <td>0</td>\n",
       "      <td>0</td>\n",
       "      <td>0</td>\n",
       "      <td>-271</td>\n",
       "      <td>1626</td>\n",
       "      <td>3711</td>\n",
       "      <td>4279</td>\n",
       "      <td>-500</td>\n",
       "    </tr>\n",
       "    <tr>\n",
       "      <th>4</th>\n",
       "      <td>10000</td>\n",
       "      <td>0</td>\n",
       "      <td>2</td>\n",
       "      <td>2</td>\n",
       "      <td>27</td>\n",
       "      <td>0</td>\n",
       "      <td>0</td>\n",
       "      <td>0</td>\n",
       "      <td>0</td>\n",
       "      <td>0</td>\n",
       "      <td>...</td>\n",
       "      <td>0</td>\n",
       "      <td>0</td>\n",
       "      <td>0</td>\n",
       "      <td>0</td>\n",
       "      <td>0</td>\n",
       "      <td>-58</td>\n",
       "      <td>2805</td>\n",
       "      <td>-566</td>\n",
       "      <td>3117</td>\n",
       "      <td>262</td>\n",
       "    </tr>\n",
       "  </tbody>\n",
       "</table>\n",
       "<p>5 rows × 49 columns</p>\n",
       "</div>"
      ],
      "text/plain": [
       "   max_credit  gender  education  marital_status  age  pay_status_sep  \\\n",
       "0      220000       1          1               2   36               0   \n",
       "1      200000       1          3               2   29              -1   \n",
       "2      180000       1          1               2   27              -2   \n",
       "3       80000       0          2               2   32               0   \n",
       "4       10000       0          2               2   27               0   \n",
       "\n",
       "   pay_status_aug  pay_status_jul  pay_status_jun  pay_status_may  ...  \\\n",
       "0               0               0               0               0  ...   \n",
       "1              -1              -1              -1              -1  ...   \n",
       "2              -2              -2              -2              -2  ...   \n",
       "3               0               0               0               0  ...   \n",
       "4               0               0               0               0  ...   \n",
       "\n",
       "   full_pay_aug  full_pay_jul  full_pay_jun  full_pay__may  full_pay_apr  \\\n",
       "0             0             0             0              0             0   \n",
       "1             0             0             0              0             0   \n",
       "2             1             1             1              1             1   \n",
       "3             0             0             0              0             0   \n",
       "4             0             0             0              0             0   \n",
       "\n",
       "   apr_may_bill_change  may_jun_bill_change  jun_jul_bill_change  \\\n",
       "0                -2746                39334                -3293   \n",
       "1                    0                    0                    0   \n",
       "2                    0                    0                    0   \n",
       "3                 -271                 1626                 3711   \n",
       "4                  -58                 2805                 -566   \n",
       "\n",
       "   jul_aug_bill_change  aug_sep_bill_change  \n",
       "0                 4268                  430  \n",
       "1                    0                    0  \n",
       "2                    0                    0  \n",
       "3                 4279                 -500  \n",
       "4                 3117                  262  \n",
       "\n",
       "[5 rows x 49 columns]"
      ]
     },
     "execution_count": 4,
     "metadata": {},
     "output_type": "execute_result"
    }
   ],
   "source": [
    "model_df.head()"
   ]
  },
  {
   "cell_type": "markdown",
   "metadata": {},
   "source": [
    "## Upsample Minority Result"
   ]
  },
  {
   "cell_type": "code",
   "execution_count": 5,
   "metadata": {
    "scrolled": true
   },
   "outputs": [
    {
     "data": {
      "text/plain": [
       "default\n",
       "0    17471\n",
       "1     5028\n",
       "Name: age, dtype: int64"
      ]
     },
     "execution_count": 5,
     "metadata": {},
     "output_type": "execute_result"
    }
   ],
   "source": [
    "model_df.groupby(\"default\").age.count()"
   ]
  },
  {
   "cell_type": "code",
   "execution_count": 6,
   "metadata": {},
   "outputs": [],
   "source": [
    "defaulted = model_df[model_df.default == 1]\n",
    "undefaulted = model_df[model_df.default == 0]"
   ]
  },
  {
   "cell_type": "code",
   "execution_count": 7,
   "metadata": {},
   "outputs": [],
   "source": [
    "defaulted_upsampled = resample(defaulted,\n",
    "                          replace=True, # sample with replacement\n",
    "                          n_samples=undefaulted.shape[0], # match number in majority class\n",
    "                          random_state=42) # reproducible result"
   ]
  },
  {
   "cell_type": "code",
   "execution_count": 8,
   "metadata": {
    "scrolled": true
   },
   "outputs": [
    {
     "data": {
      "text/plain": [
       "1    17471\n",
       "0    17471\n",
       "Name: default, dtype: int64"
      ]
     },
     "execution_count": 8,
     "metadata": {},
     "output_type": "execute_result"
    }
   ],
   "source": [
    "resampled_df  = pd.concat([undefaulted, defaulted_upsampled])\n",
    "resampled_df.default.value_counts()"
   ]
  },
  {
   "cell_type": "code",
   "execution_count": 9,
   "metadata": {},
   "outputs": [],
   "source": [
    "X = resampled_df.drop(columns=\"default\")\n",
    "y = resampled_df.default"
   ]
  },
  {
   "cell_type": "code",
   "execution_count": 10,
   "metadata": {},
   "outputs": [],
   "source": [
    "X_train, X_test, y_train, y_test = train_test_split(X, y, random_state=42)"
   ]
  },
  {
   "cell_type": "markdown",
   "metadata": {},
   "source": [
    "### Standard Scaling for KNN"
   ]
  },
  {
   "cell_type": "code",
   "execution_count": 11,
   "metadata": {},
   "outputs": [],
   "source": [
    "scaler = StandardScaler()\n",
    "scaled_data_train = scaler.fit_transform(X_train)\n",
    "scaled_data_test = scaler.transform(X_test)"
   ]
  },
  {
   "cell_type": "markdown",
   "metadata": {},
   "source": [
    "## Baseline Models"
   ]
  },
  {
   "cell_type": "code",
   "execution_count": 12,
   "metadata": {},
   "outputs": [],
   "source": [
    "dummy = DummyClassifier()\n",
    "logreg = LogisticRegression(max_iter = 10**5, verbose=1)\n",
    "tree = DecisionTreeClassifier()\n",
    "knn = KNeighborsClassifier()"
   ]
  },
  {
   "cell_type": "markdown",
   "metadata": {},
   "source": [
    "## All Features GridSearchCV\n",
    "This is gonna be a long one"
   ]
  },
  {
   "cell_type": "code",
   "execution_count": 13,
   "metadata": {},
   "outputs": [],
   "source": [
    "tree_param_dict = {\"max_depth\":range(15,23,1),\n",
    "              \"criterion\":[\"gini\", \"entropy\"], \n",
    "              \"min_samples_leaf\":range(30,60,10),\n",
    "              \"splitter\":[\"best\", \"random\"],\n",
    "              \"max_features\":range(15, len(model_df.columns))} \n",
    "\n",
    "knn_param_dict = {\"n_neighbors\":range(50, 110, 10),\n",
    "                 \"weights\":[\"distance\", \"uniform\"],\n",
    "                 \"algorithm\":[\"ball_tree\", \"kd_tree\"],\n",
    "                 \"leaf_size\": range(5, 16, 2)}"
   ]
  },
  {
   "cell_type": "code",
   "execution_count": 14,
   "metadata": {},
   "outputs": [],
   "source": [
    "grid_tree = GridSearchCV(tree, tree_param_dict, cv=10, scoring=\"f1\", n_jobs=-1, verbose=1)\n",
    "grid_knn = GridSearchCV(knn, knn_param_dict, cv=10, scoring=\"f1\", n_jobs=-1, verbose=1)"
   ]
  },
  {
   "cell_type": "code",
   "execution_count": 15,
   "metadata": {
    "scrolled": false
   },
   "outputs": [
    {
     "name": "stdout",
     "output_type": "stream",
     "text": [
      "Fitting 10 folds for each of 6800 candidates, totalling 68000 fits\n"
     ]
    },
    {
     "name": "stderr",
     "output_type": "stream",
     "text": [
      "[Parallel(n_jobs=-1)]: Using backend LokyBackend with 4 concurrent workers.\n",
      "[Parallel(n_jobs=-1)]: Done  42 tasks      | elapsed:    3.5s\n",
      "[Parallel(n_jobs=-1)]: Done 192 tasks      | elapsed:    8.9s\n",
      "[Parallel(n_jobs=-1)]: Done 442 tasks      | elapsed:   18.1s\n",
      "[Parallel(n_jobs=-1)]: Done 792 tasks      | elapsed:   32.4s\n",
      "[Parallel(n_jobs=-1)]: Done 1242 tasks      | elapsed:   53.0s\n",
      "[Parallel(n_jobs=-1)]: Done 1792 tasks      | elapsed:  1.4min\n",
      "[Parallel(n_jobs=-1)]: Done 2442 tasks      | elapsed:  2.0min\n",
      "[Parallel(n_jobs=-1)]: Done 3192 tasks      | elapsed:  2.9min\n",
      "[Parallel(n_jobs=-1)]: Done 4616 tasks      | elapsed:  4.0min\n",
      "[Parallel(n_jobs=-1)]: Done 6516 tasks      | elapsed:  6.0min\n",
      "[Parallel(n_jobs=-1)]: Done 8616 tasks      | elapsed:  7.7min\n",
      "[Parallel(n_jobs=-1)]: Done 10916 tasks      | elapsed: 10.1min\n",
      "[Parallel(n_jobs=-1)]: Done 13416 tasks      | elapsed: 12.7min\n",
      "[Parallel(n_jobs=-1)]: Done 16116 tasks      | elapsed: 15.1min\n",
      "[Parallel(n_jobs=-1)]: Done 19016 tasks      | elapsed: 18.0min\n",
      "[Parallel(n_jobs=-1)]: Done 22116 tasks      | elapsed: 21.0min\n",
      "[Parallel(n_jobs=-1)]: Done 25416 tasks      | elapsed: 24.3min\n",
      "[Parallel(n_jobs=-1)]: Done 28916 tasks      | elapsed: 27.8min\n",
      "[Parallel(n_jobs=-1)]: Done 32616 tasks      | elapsed: 31.5min\n",
      "[Parallel(n_jobs=-1)]: Done 36516 tasks      | elapsed: 35.8min\n",
      "[Parallel(n_jobs=-1)]: Done 40616 tasks      | elapsed: 41.0min\n",
      "[Parallel(n_jobs=-1)]: Done 42788 tasks      | elapsed: 43.4min\n",
      "[Parallel(n_jobs=-1)]: Done 45038 tasks      | elapsed: 46.4min\n",
      "[Parallel(n_jobs=-1)]: Done 47388 tasks      | elapsed: 49.7min\n",
      "[Parallel(n_jobs=-1)]: Done 49838 tasks      | elapsed: 52.6min\n",
      "[Parallel(n_jobs=-1)]: Done 52388 tasks      | elapsed: 56.0min\n",
      "[Parallel(n_jobs=-1)]: Done 55038 tasks      | elapsed: 59.7min\n",
      "[Parallel(n_jobs=-1)]: Done 57788 tasks      | elapsed: 63.8min\n",
      "[Parallel(n_jobs=-1)]: Done 60638 tasks      | elapsed: 67.4min\n",
      "[Parallel(n_jobs=-1)]: Done 63588 tasks      | elapsed: 71.2min\n",
      "[Parallel(n_jobs=-1)]: Done 66638 tasks      | elapsed: 75.4min\n",
      "[Parallel(n_jobs=-1)]: Done 68000 out of 68000 | elapsed: 77.7min finished\n"
     ]
    },
    {
     "name": "stdout",
     "output_type": "stream",
     "text": [
      "Fitting 10 folds for each of 324 candidates, totalling 3240 fits\n"
     ]
    },
    {
     "name": "stderr",
     "output_type": "stream",
     "text": [
      "[Parallel(n_jobs=-1)]: Using backend LokyBackend with 4 concurrent workers.\n",
      "[Parallel(n_jobs=-1)]: Done  42 tasks      | elapsed:  1.7min\n",
      "[Parallel(n_jobs=-1)]: Done 192 tasks      | elapsed:  8.0min\n",
      "[Parallel(n_jobs=-1)]: Done 442 tasks      | elapsed: 18.3min\n",
      "[Parallel(n_jobs=-1)]: Done 792 tasks      | elapsed: 32.4min\n",
      "[Parallel(n_jobs=-1)]: Done 1242 tasks      | elapsed: 50.6min\n",
      "[Parallel(n_jobs=-1)]: Done 1792 tasks      | elapsed: 74.0min\n",
      "[Parallel(n_jobs=-1)]: Done 2442 tasks      | elapsed: 98.9min\n",
      "[Parallel(n_jobs=-1)]: Done 3192 tasks      | elapsed: 128.0min\n",
      "[Parallel(n_jobs=-1)]: Done 3240 out of 3240 | elapsed: 129.9min finished\n"
     ]
    }
   ],
   "source": [
    "y_all_grid_tree = grid_tree.fit(X_train, y_train)\n",
    "y_all_grid_knn = grid_knn.fit(scaled_data_train, y_train)"
   ]
  },
  {
   "cell_type": "code",
   "execution_count": 16,
   "metadata": {},
   "outputs": [
    {
     "name": "stdout",
     "output_type": "stream",
     "text": [
      "{'criterion': 'entropy', 'max_depth': 18, 'max_features': 39, 'min_samples_leaf': 50, 'splitter': 'best'}\n",
      "DecisionTreeClassifier(criterion='entropy', max_depth=18, max_features=39,\n",
      "                       min_samples_leaf=50)\n",
      "Overfitting Check\n",
      "Train GridSearch DecisionTree F1 score:  0.7747906229683735\n",
      "Test GridSearch DecisionTree F1 score:  0.7344999420558581\n"
     ]
    }
   ],
   "source": [
    "# gridsearch decision tree parameter result\n",
    "print(grid_tree.best_params_)\n",
    "print(grid_tree.best_estimator_)\n",
    "\n",
    "# make predictions for train and test\n",
    "grid_tree_pred_train = grid_tree.best_estimator_.predict(X_train)\n",
    "grid_tree_pred_test = grid_tree.best_estimator_.predict(X_test)\n",
    "\n",
    "#check for significant difference in F1 between train and test for overfitting\n",
    "print(\"Overfitting Check\")\n",
    "print(\"Train GridSearch DecisionTree F1 score: \", f1_score(y_train, grid_tree_pred_train))\n",
    "print(\"Test GridSearch DecisionTree F1 score: \", f1_score(y_test, grid_tree_pred_test))"
   ]
  },
  {
   "cell_type": "code",
   "execution_count": 18,
   "metadata": {},
   "outputs": [
    {
     "name": "stdout",
     "output_type": "stream",
     "text": [
      "{'algorithm': 'ball_tree', 'leaf_size': 10, 'n_neighbors': 90, 'weights': 'distance'}\n",
      "KNeighborsClassifier(algorithm='ball_tree', leaf_size=10, n_neighbors=90,\n",
      "                     weights='distance')\n",
      "Overfitting Check\n",
      "Train GridSearch KNN F1 score:  0.9996182623301267\n",
      "Test GridSearch KNN F1 score:  0.8888417029408642\n"
     ]
    }
   ],
   "source": [
    "# gridsearch knn parameter result\n",
    "print(grid_knn.best_params_)\n",
    "print(grid_knn.best_estimator_)\n",
    "\n",
    "grid_knn_pred_train = grid_knn.best_estimator_.predict(scaled_data_train)\n",
    "grid_knn_pred_test = grid_knn.best_estimator_.predict(scaled_data_test)\n",
    "\n",
    "print(\"Overfitting Check\")\n",
    "print(\"Train GridSearch KNN F1 score: \", f1_score(y_train, grid_knn_pred_train))\n",
    "print(\"Test GridSearch KNN F1 score: \", f1_score(y_test, grid_knn_pred_test))"
   ]
  },
  {
   "cell_type": "code",
   "execution_count": null,
   "metadata": {},
   "outputs": [],
   "source": []
  },
  {
   "cell_type": "code",
   "execution_count": null,
   "metadata": {},
   "outputs": [],
   "source": []
  },
  {
   "cell_type": "code",
   "execution_count": null,
   "metadata": {},
   "outputs": [],
   "source": []
  },
  {
   "cell_type": "markdown",
   "metadata": {},
   "source": [
    "### Current Metrics to Beat:\n",
    "\n",
    "Current:Decision Tree <br>\n",
    "Train GridSearch DecisionTree F1 score:  0.739447893483269 <br>\n",
    "Test GridSearch DecisionTree F1 score:  0.7173607861488067 <br>\n",
    "\n",
    "Old:Decision Tree <br>\n",
    "Train GridSearch DecisionTree F1 score:  0.6587963557038369 <br>\n",
    "Test GridSearch DecisionTree F1 score:  0.6583419155509784 <br>\n",
    "\n",
    "\n",
    "Current: KNN <br>\n",
    "GridSearch KNN F1 score: <br>\n",
    "GridSearch KNN F1 score: <br>\n",
    "\n",
    "**THIS IS THE BEST PERFORMER YET**\n",
    "Old: KNN <br>\n",
    "GridSearch KNN F1 score:  0.9956541628545289 <br>\n",
    "GridSearch KNN F1 score:  0.8771084337349397 <br>"
   ]
  },
  {
   "cell_type": "markdown",
   "metadata": {},
   "source": [
    "## Saving Models Through Pickle"
   ]
  },
  {
   "cell_type": "code",
   "execution_count": 50,
   "metadata": {
    "scrolled": true
   },
   "outputs": [],
   "source": [
    "# GridSearchCV KNN Pickle\n",
    "with open(r\"..\\model\\grid_knn.pickle\", \"wb\") as model:\n",
    "    pickle.dump(grid_knn, model)"
   ]
  },
  {
   "cell_type": "code",
   "execution_count": 19,
   "metadata": {},
   "outputs": [],
   "source": [
    "# GridSearchCV Decision Tree Pickel\n",
    "with open(r\"..\\model\\grid_tree.pickle\", \"wb\") as grid_tree_pickle:\n",
    "    pickle.dump(grid_tree, grid_tree_pickle)"
   ]
  },
  {
   "cell_type": "code",
   "execution_count": 52,
   "metadata": {},
   "outputs": [],
   "source": [
    "# Engineered Feature Only Standard Scaler\n",
    "with open(r\"..\\model\\eng_scale.pickle\", \"wb\") as scaler_eng_features:\n",
    "    pickle.dump(eng_scaler, scaler_eng_features)"
   ]
  },
  {
   "cell_type": "code",
   "execution_count": null,
   "metadata": {},
   "outputs": [],
   "source": []
  }
 ],
 "metadata": {
  "kernelspec": {
   "display_name": "Python 3",
   "language": "python",
   "name": "python3"
  },
  "language_info": {
   "codemirror_mode": {
    "name": "ipython",
    "version": 3
   },
   "file_extension": ".py",
   "mimetype": "text/x-python",
   "name": "python",
   "nbconvert_exporter": "python",
   "pygments_lexer": "ipython3",
   "version": "3.7.1"
  }
 },
 "nbformat": 4,
 "nbformat_minor": 4
}
